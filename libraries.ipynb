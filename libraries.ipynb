{
 "cells": [
  {
   "cell_type": "code",
   "execution_count": 2,
   "metadata": {},
   "outputs": [],
   "source": [
    "import math"
   ]
  },
  {
   "cell_type": "code",
   "execution_count": 10,
   "metadata": {},
   "outputs": [
    {
     "name": "stdout",
     "output_type": "stream",
     "text": [
      "304888344611713860501504000000\n",
      "3.141592653589793\n",
      "2.302585092994046\n",
      "10\n"
     ]
    }
   ],
   "source": [
    "print(math.factorial(28))\n",
    "print(math.pi)\n",
    "print(math.log(10))\n",
    "print(math.gcd(10,20))"
   ]
  },
  {
   "cell_type": "code",
   "execution_count": 7,
   "metadata": {},
   "outputs": [
    {
     "name": "stdout",
     "output_type": "stream",
     "text": [
      "7.615773105863909\n"
     ]
    }
   ],
   "source": [
    "print(math.sqrt(58))"
   ]
  },
  {
   "cell_type": "code",
   "execution_count": 11,
   "metadata": {},
   "outputs": [],
   "source": [
    "from random import random,randint,choice,shuffle"
   ]
  },
  {
   "cell_type": "code",
   "execution_count": 29,
   "metadata": {},
   "outputs": [
    {
     "name": "stdout",
     "output_type": "stream",
     "text": [
      "get a random number 0 and 1: 0.6981433364695872\n",
      "get a random number 1 and 100: 20\n",
      "get a random number from a list: 4\n"
     ]
    }
   ],
   "source": [
    "print('get a random number 0 and 1:',random())\n",
    "print('get a random number 1 and 100:',randint(20,30))\n",
    "print('get a random number from a list:',choice([1,2,3,4,5]))"
   ]
  },
  {
   "cell_type": "code",
   "execution_count": 46,
   "metadata": {},
   "outputs": [
    {
     "name": "stdout",
     "output_type": "stream",
     "text": [
      "shuffle a list : ['Jack', 'Jane', 'John', 'Jill']\n"
     ]
    }
   ],
   "source": [
    "names = ['John','Jane','Jack','Jill']\n",
    "shuffle(names)\n",
    "print('shuffle a list :',names)"
   ]
  },
  {
   "cell_type": "markdown",
   "metadata": {},
   "source": [
    "DATETIME library"
   ]
  },
  {
   "cell_type": "code",
   "execution_count": 48,
   "metadata": {},
   "outputs": [],
   "source": [
    "from datetime import datetime as dt"
   ]
  },
  {
   "cell_type": "code",
   "execution_count": 50,
   "metadata": {},
   "outputs": [
    {
     "name": "stdout",
     "output_type": "stream",
     "text": [
      "Curret date and time: 2025-03-05 17:46:16.498820\n"
     ]
    }
   ],
   "source": [
    "print(\"Curret date and time:\",dt.now())"
   ]
  },
  {
   "cell_type": "code",
   "execution_count": 89,
   "metadata": {},
   "outputs": [
    {
     "name": "stdout",
     "output_type": "stream",
     "text": [
      "Current year : 2025\n",
      "Current month : 3\n",
      "Current day : 5\n",
      "Current hour : 17\n",
      "Current minute : 50\n",
      "Current second : 2\n"
     ]
    }
   ],
   "source": [
    "print('Current year :',dt.now().year)\n",
    "print('Current month :',dt.now().month)\n",
    "print('Current day :',dt.now().day)\n",
    "print('Current hour :',dt.now().hour)\n",
    "print('Current minute :',dt.now().minute)\n",
    "print('Current second :',dt.now().second)\n"
   ]
  },
  {
   "cell_type": "code",
   "execution_count": 90,
   "metadata": {},
   "outputs": [
    {
     "name": "stdout",
     "output_type": "stream",
     "text": [
      "Current date: 2025-03-05\n"
     ]
    }
   ],
   "source": [
    "print('Current date:',dt.now().date())"
   ]
  },
  {
   "cell_type": "code",
   "execution_count": null,
   "metadata": {},
   "outputs": [
    {
     "name": "stdout",
     "output_type": "stream",
     "text": [
      "current day name: Wednesday\n",
      "current month name: March\n",
      "current day name: Wed\n",
      "current month name: Mar\n",
      "current day name: 20\n",
      "current date name: 03/05/25\n"
     ]
    }
   ],
   "source": [
    "print(\"current day name:\",dt.now().strftime('%A'))\n",
    "print(\"current month name:\",dt.now().strftime('%B'))\n",
    "print(\"current day name:\",dt.now().strftime('%a'))\n",
    "print(\"current month name:\",dt.now().strftime('%b'))\n",
    "print(\"current century name:\",dt.now().strftime('%C'))\n",
    "print(\"current date name:\",dt.now().strftime('%D'))\n",
    "\n",
    "\n"
   ]
  },
  {
   "cell_type": "code",
   "execution_count": 103,
   "metadata": {},
   "outputs": [],
   "source": [
    "import os"
   ]
  },
  {
   "cell_type": "code",
   "execution_count": 104,
   "metadata": {},
   "outputs": [
    {
     "name": "stdout",
     "output_type": "stream",
     "text": [
      "current working directory: c:\\Users\\VAIBHAV\\Desktop\\data structure\n"
     ]
    }
   ],
   "source": [
    "print(\"current working directory:\",os.getcwd())"
   ]
  },
  {
   "cell_type": "code",
   "execution_count": 105,
   "metadata": {},
   "outputs": [
    {
     "name": "stdout",
     "output_type": "stream",
     "text": [
      "Files in current directory: ['.git', 'dict.ipynb', 'dsa.ipynb', 'func.ipynb', 'libraries.ipynb', 'lists.ipynb', 'PythonQuestions[1].ipynb', 'ques.ipynb', 'string.ipynb']\n",
      "9 files found\n"
     ]
    }
   ],
   "source": [
    "files = os.listdir()\n",
    "print('Files in current directory:', files)\n",
    "print(len(files),'files found')"
   ]
  },
  {
   "cell_type": "code",
   "execution_count": 107,
   "metadata": {},
   "outputs": [
    {
     "name": "stdout",
     "output_type": "stream",
     "text": [
      "['Diwali Sales Data.csv', 'Diwali_Sales_Analysis111.ipynb']\n"
     ]
    }
   ],
   "source": [
    "files=os.listdir(r\"C:\\Users\\VAIBHAV\\Downloads\\Python_Diwali_Sales_Analysis\\Python_Diwali_Sales_Analysis\")\n",
    "print(files)"
   ]
  },
  {
   "cell_type": "code",
   "execution_count": 111,
   "metadata": {},
   "outputs": [
    {
     "name": "stdout",
     "output_type": "stream",
     "text": [
      "path -  C:\n",
      "folders -  ['.git']\n",
      "files -  ['dict.ipynb', 'dsa.ipynb', 'func.ipynb', 'libraries.ipynb', 'lists.ipynb', 'PythonQuestions[1].ipynb', 'ques.ipynb', 'string.ipynb']\n",
      "path -  C:.git\n",
      "folders -  ['hooks', 'info', 'logs', 'objects', 'refs']\n",
      "files -  ['COMMIT_EDITMSG', 'config', 'description', 'FETCH_HEAD', 'HEAD', 'index']\n",
      "path -  C:.git\\hooks\n",
      "folders -  []\n",
      "files -  ['applypatch-msg.sample', 'commit-msg.sample', 'fsmonitor-watchman.sample', 'post-update.sample', 'pre-applypatch.sample', 'pre-commit.sample', 'pre-merge-commit.sample', 'pre-push.sample', 'pre-rebase.sample', 'pre-receive.sample', 'prepare-commit-msg.sample', 'push-to-checkout.sample', 'sendemail-validate.sample', 'update.sample']\n",
      "path -  C:.git\\info\n",
      "folders -  []\n",
      "files -  ['exclude']\n",
      "path -  C:.git\\logs\n",
      "folders -  ['refs']\n",
      "files -  ['HEAD']\n",
      "path -  C:.git\\logs\\refs\n",
      "folders -  ['heads', 'remotes']\n",
      "files -  []\n",
      "path -  C:.git\\logs\\refs\\heads\n",
      "folders -  []\n",
      "files -  ['main']\n",
      "path -  C:.git\\logs\\refs\\remotes\n",
      "folders -  ['origin']\n",
      "files -  []\n",
      "path -  C:.git\\logs\\refs\\remotes\\origin\n",
      "folders -  []\n",
      "files -  ['HEAD', 'main']\n",
      "path -  C:.git\\objects\n",
      "folders -  ['18', '1b', '2a', '2c', '80', '84', 'c2', 'd9', 'db', 'df', 'info', 'pack']\n",
      "files -  []\n",
      "path -  C:.git\\objects\\18\n",
      "folders -  []\n",
      "files -  ['9139d638b7272edc901e3626d3e35cda79a9f2']\n",
      "path -  C:.git\\objects\\1b\n",
      "folders -  []\n",
      "files -  ['1cb6af445e7f185136753500d03b93532b6c87']\n",
      "path -  C:.git\\objects\\2a\n",
      "folders -  []\n",
      "files -  ['d992deda625f731b391e7c20d6364cc23fc11e']\n",
      "path -  C:.git\\objects\\2c\n",
      "folders -  []\n",
      "files -  ['499ee2008a2664beaa315bd09bc2d216530fd4']\n",
      "path -  C:.git\\objects\\80\n",
      "folders -  []\n",
      "files -  ['5c4f6e9a648b9c4d23fa41f95c9cbbdeba9af5']\n",
      "path -  C:.git\\objects\\84\n",
      "folders -  []\n",
      "files -  ['75adfd6d8b44db9b2db1101d2d98228f30adff']\n",
      "path -  C:.git\\objects\\c2\n",
      "folders -  []\n",
      "files -  ['ec95e798b74e95a6db4a756eb733f5b82a96d3']\n",
      "path -  C:.git\\objects\\d9\n",
      "folders -  []\n",
      "files -  ['245116deb44024ce3610ba080bd29aa37f65e2']\n",
      "path -  C:.git\\objects\\db\n",
      "folders -  []\n",
      "files -  ['ec884b1a0e7a3c52ace65f09dd2dcefb5127f9']\n",
      "path -  C:.git\\objects\\df\n",
      "folders -  []\n",
      "files -  ['6b95b1480a86203bd1fbd3ef6e70c15eb802ed']\n",
      "path -  C:.git\\objects\\info\n",
      "folders -  []\n",
      "files -  []\n",
      "path -  C:.git\\objects\\pack\n",
      "folders -  []\n",
      "files -  []\n",
      "path -  C:.git\\refs\n",
      "folders -  ['heads', 'remotes', 'tags']\n",
      "files -  []\n",
      "path -  C:.git\\refs\\heads\n",
      "folders -  []\n",
      "files -  ['main']\n",
      "path -  C:.git\\refs\\remotes\n",
      "folders -  ['origin']\n",
      "files -  []\n",
      "path -  C:.git\\refs\\remotes\\origin\n",
      "folders -  []\n",
      "files -  ['HEAD', 'main']\n",
      "path -  C:.git\\refs\\tags\n",
      "folders -  []\n",
      "files -  []\n",
      "Total files found: 46\n"
     ]
    }
   ],
   "source": [
    "total_files = 0\n",
    "for path, folders, files in os.walk('C:'):\n",
    "    print('path - ',path)\n",
    "    print('folders - ',folders)\n",
    "    print('files - ',files)\n",
    "    total_files += len(files)\n",
    "print(\"Total files found:\",total_files)"
   ]
  },
  {
   "cell_type": "code",
   "execution_count": null,
   "metadata": {},
   "outputs": [
    {
     "name": "stdout",
     "output_type": "stream",
     "text": [
      "File does not exist\n"
     ]
    }
   ],
   "source": [
    "file = r\"C:\\Users\\VAIBHAV\\Downloads\\python_Diwali_Sales_Analysis\\Python_Diwali_Sales_Analysis\"\n",
    "if os.path.exists(file):\n",
    "    print('file exist')\n",
    "else:\n",
    "    print('File does not exist')"
   ]
  },
  {
   "cell_type": "code",
   "execution_count": 118,
   "metadata": {},
   "outputs": [
    {
     "name": "stdout",
     "output_type": "stream",
     "text": [
      "file exist\n",
      "Folder size: 8192 bytes\n",
      "Folder size: 8.0 KB\n",
      "Folder size: 0.0078125 Mb\n",
      "Folder size: 7.62939453125e-06 GB\n"
     ]
    }
   ],
   "source": [
    "file = r\"C:\\Program Files\"\n",
    "if os.path.exists(file):\n",
    "    print('file exist')\n",
    "    size = os.path.getsize(file)\n",
    "    print('Folder size:',size,'bytes')\n",
    "    print('Folder size:',size/1024,'KB')\n",
    "    print('Folder size:',size/1024/1024,'Mb')\n",
    "    print('Folder size:',size/1024/1024/1024,'GB')"
   ]
  },
  {
   "cell_type": "code",
   "execution_count": null,
   "metadata": {},
   "outputs": [],
   "source": []
  }
 ],
 "metadata": {
  "kernelspec": {
   "display_name": "base",
   "language": "python",
   "name": "python3"
  },
  "language_info": {
   "codemirror_mode": {
    "name": "ipython",
    "version": 3
   },
   "file_extension": ".py",
   "mimetype": "text/x-python",
   "name": "python",
   "nbconvert_exporter": "python",
   "pygments_lexer": "ipython3",
   "version": "3.12.7"
  }
 },
 "nbformat": 4,
 "nbformat_minor": 2
}
