{
 "cells": [
  {
   "cell_type": "code",
   "execution_count": 1,
   "metadata": {},
   "outputs": [
    {
     "name": "stdout",
     "output_type": "stream",
     "text": [
      "ghg\n",
      "abc\n",
      "ghj\n"
     ]
    }
   ],
   "source": [
    "age = 24\n",
    "if age < 35:\n",
    "    print(\"ghg\")\n",
    "    print(\"abc\")\n",
    "print(\"ghj\")"
   ]
  },
  {
   "cell_type": "code",
   "execution_count": null,
   "metadata": {},
   "outputs": [],
   "source": []
  },
  {
   "cell_type": "code",
   "execution_count": null,
   "metadata": {},
   "outputs": [
    {
     "name": "stdout",
     "output_type": "stream",
     "text": [
      "A\n"
     ]
    }
   ],
   "source": [
    "marks = 87\n",
    "if marks >= 90:\n",
    "    print('A+')\n",
    "elif marks >= 75:\n",
    "    print('A')\n",
    "elif marks >= 60:\n",
    "    print('B')\n",
    "else:\n",
    "    print('Fail')"
   ]
  },
  {
   "cell_type": "code",
   "execution_count": null,
   "metadata": {},
   "outputs": [
    {
     "name": "stdout",
     "output_type": "stream",
     "text": [
      "A\n",
      "B\n"
     ]
    }
   ],
   "source": [
    "marks = 87\n",
    "if marks >= 90:\n",
    "    print('A+')\n",
    "if marks >= 75:\n",
    "    print('A')\n",
    "if marks >= 60:\n",
    "    print('B')\n",
    "if marks < 60:\n",
    "    print('Fail')"
   ]
  },
  {
   "cell_type": "code",
   "execution_count": null,
   "metadata": {},
   "outputs": [
    {
     "name": "stdout",
     "output_type": "stream",
     "text": [
      "number is postive\n"
     ]
    }
   ],
   "source": [
    "num = int(input(\"Enter the number :\"))\n",
    "if num > 0:\n",
    "    print(\"number is postive\")\n",
    "else:\n",
    "    print(\"Number is negative\")"
   ]
  },
  {
   "cell_type": "code",
   "execution_count": null,
   "metadata": {},
   "outputs": [
    {
     "name": "stdout",
     "output_type": "stream",
     "text": [
      "number is even\n"
     ]
    }
   ],
   "source": [
    "num = int(input(\"Enter the number :\"))\n",
    "if num % 2 == 0:\n",
    "    print(\"number is even\")\n",
    "else:\n",
    "    print(\"number is odd\")"
   ]
  },
  {
   "cell_type": "code",
   "execution_count": null,
   "metadata": {},
   "outputs": [
    {
     "name": "stdout",
     "output_type": "stream",
     "text": [
      "Isosceles triangle\n"
     ]
    }
   ],
   "source": [
    "x = 9\n",
    "y = 7\n",
    "z = 9\n",
    "\n",
    "if x ==y==z:\n",
    "    print(\"equilateral triangle\")\n",
    "elif x == y or y == z or z == x:\n",
    "    print(\"Isosceles triangle\")\n",
    "else:\n",
    "    print(\"scalene triangle\")"
   ]
  },
  {
   "cell_type": "code",
   "execution_count": null,
   "metadata": {},
   "outputs": [
    {
     "name": "stdout",
     "output_type": "stream",
     "text": [
      "12.56\n"
     ]
    }
   ],
   "source": [
    "r = 2\n",
    "area = 3.14*r*r\n",
    "print(area)"
   ]
  },
  {
   "cell_type": "code",
   "execution_count": null,
   "metadata": {},
   "outputs": [
    {
     "name": "stdout",
     "output_type": "stream",
     "text": [
      "Number is not prime\n"
     ]
    }
   ],
   "source": [
    "num = int(input(\"Enter the number :\"))\n",
    "if num > 1:\n",
    "    for i in range(2,(num//2)+1):\n",
    "        if (num % i) == 0:\n",
    "            print(\"Number is not prime\")\n",
    "            break\n",
    "    else:\n",
    "         print(\"number is  prime\")\n",
    "else:\n",
    "    print(\"num is not prime\")           "
   ]
  },
  {
   "cell_type": "code",
   "execution_count": null,
   "metadata": {},
   "outputs": [
    {
     "name": "stdout",
     "output_type": "stream",
     "text": [
      "115000000000000.0 net_salary\n"
     ]
    }
   ],
   "source": [
    "basic_salary = float(input(\"Enter the number:\"))\n",
    "tda = (10 / 100) * basic_salary\n",
    "hra = (5/100) * basic_salary\n",
    "net_salary = basic_salary + tda + hra\n",
    "print(net_salary,\"net_salary\")"
   ]
  },
  {
   "cell_type": "code",
   "execution_count": 62,
   "metadata": {},
   "outputs": [
    {
     "name": "stdout",
     "output_type": "stream",
     "text": [
      "the num is palindrome\n"
     ]
    }
   ],
   "source": [
    "n = int(input(\"Enter the number:\"))\n",
    "temp = n\n",
    "rev = 0\n",
    "while (n>0):\n",
    "    dig = n%10\n",
    "    rev = rev*10 + dig\n",
    "    n = n//10\n",
    "if (temp == rev):\n",
    "    print(\"the num is palindrome\")\n",
    "else :\n",
    "    print(\"num is not palindrome\")\n",
    "\n"
   ]
  },
  {
   "cell_type": "code",
   "execution_count": null,
   "metadata": {},
   "outputs": [
    {
     "name": "stdout",
     "output_type": "stream",
     "text": [
      "Enter character is consonant \n"
     ]
    }
   ],
   "source": [
    "char = input(\"enter the character\")\n",
    "if char.lower() == 'a' or char.lower() == 'e' or char.lower() == 'i' or char.lower() == 'o' or char.lower() == 'u':\n",
    "    print(\"Enter character is vowel\")\n",
    "else:\n",
    "    print(\"Enter character is consonant \")"
   ]
  },
  {
   "cell_type": "code",
   "execution_count": 67,
   "metadata": {},
   "outputs": [
    {
     "name": "stdout",
     "output_type": "stream",
     "text": [
      "407 is a armstrong number\n"
     ]
    }
   ],
   "source": [
    "n = int(input(\"Enter the Number :\"))\n",
    "temp = n\n",
    "sum = 0\n",
    "while (temp>0):\n",
    "    dig = temp %10\n",
    "    sum += dig **3\n",
    "    temp = temp//10\n",
    "if n == sum:\n",
    "    print(n,\"is a armstrong number\")\n",
    "else :\n",
    "    print(n,\"is not a armstrong\")"
   ]
  },
  {
   "cell_type": "code",
   "execution_count": null,
   "metadata": {},
   "outputs": [
    {
     "name": "stdout",
     "output_type": "stream",
     "text": [
      "Hurray! Registered Succefully\n"
     ]
    }
   ],
   "source": [
    "username = input(\"enter the username\")\n",
    "email = input(\"enter the email\")\n",
    "password = input(\"enter the password\")\n",
    "cpass = input(\"Re-enter the password\")\n",
    "if len(username)>5 and len(username)<15:\n",
    "    if '@' in email and len(email)>10:\n",
    "        if len(password)>5 and len(password)<=10:\n",
    "            if password == cpass:\n",
    "                print(\"Hurray! Registered Succefully\")\n",
    "            else:\n",
    "                print(\"Password mismatch\")\n",
    "        else :\n",
    "            print(\"incorrect password\")\n",
    "    else :\n",
    "        print(\"invalid email\")\n",
    "else:\n",
    "    print(\"invalid username\")"
   ]
  },
  {
   "cell_type": "code",
   "execution_count": null,
   "metadata": {},
   "outputs": [],
   "source": []
  },
  {
   "cell_type": "code",
   "execution_count": null,
   "metadata": {},
   "outputs": [],
   "source": []
  }
 ],
 "metadata": {
  "kernelspec": {
   "display_name": "base",
   "language": "python",
   "name": "python3"
  },
  "language_info": {
   "codemirror_mode": {
    "name": "ipython",
    "version": 3
   },
   "file_extension": ".py",
   "mimetype": "text/x-python",
   "name": "python",
   "nbconvert_exporter": "python",
   "pygments_lexer": "ipython3",
   "version": "3.12.7"
  }
 },
 "nbformat": 4,
 "nbformat_minor": 2
}
