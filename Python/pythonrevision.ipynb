{
 "cells": [
  {
   "cell_type": "code",
   "execution_count": null,
   "id": "346607c5",
   "metadata": {},
   "outputs": [
    {
     "name": "stdout",
     "output_type": "stream",
     "text": [
      "Hello World\n"
     ]
    }
   ],
   "source": [
    "print(\"Hello World\")\n"
   ]
  },
  {
   "cell_type": "code",
   "execution_count": 2,
   "id": "d8acf963",
   "metadata": {},
   "outputs": [
    {
     "name": "stdout",
     "output_type": "stream",
     "text": [
      "2 is even\n"
     ]
    }
   ],
   "source": [
    "num = int(input('Enter a number:'))\n",
    "if num % 2 == 0:\n",
    "    print(f'{num} is even')\n",
    "else:\n",
    "     print(f'{num} is odd')"
   ]
  },
  {
   "cell_type": "code",
   "execution_count": 6,
   "id": "c58b1641",
   "metadata": {},
   "outputs": [
    {
     "name": "stdout",
     "output_type": "stream",
     "text": [
      "Area of circle is 50.24\n"
     ]
    }
   ],
   "source": [
    "radius = float(input(\"Enter a number:\"))\n",
    "Area = 3.14 * radius * radius\n",
    "print(f\"Area of circle is {Area}\")"
   ]
  },
  {
   "cell_type": "code",
   "execution_count": 8,
   "id": "5af03a62",
   "metadata": {},
   "outputs": [
    {
     "name": "stdout",
     "output_type": "stream",
     "text": [
      "hellohellohellohellohello\n"
     ]
    }
   ],
   "source": [
    "a = input(\"Enter a word:\")\n",
    "n = int(input('Enter a number:'))\n",
    "print(a * n)"
   ]
  },
  {
   "cell_type": "code",
   "execution_count": 22,
   "id": "b6b2d7ea",
   "metadata": {},
   "outputs": [
    {
     "name": "stdout",
     "output_type": "stream",
     "text": [
      "666666&4444\n"
     ]
    }
   ],
   "source": [
    "a = int(input(\"Enter a Number :\"))\n",
    "b = int(input('Enter a number :'))\n",
    "c = (input())\n",
    "print((str(a)*a) + c + (str(b)*b))"
   ]
  },
  {
   "cell_type": "code",
   "execution_count": 23,
   "id": "b9ae74bc",
   "metadata": {},
   "outputs": [
    {
     "name": "stdout",
     "output_type": "stream",
     "text": [
      "45\n"
     ]
    }
   ],
   "source": [
    "a = int(input('Enter a number:'))\n",
    "b = int(input('Enter a number:'))\n",
    "print(max(a,b))"
   ]
  },
  {
   "cell_type": "code",
   "execution_count": 26,
   "id": "ac420f1b",
   "metadata": {},
   "outputs": [
    {
     "name": "stdout",
     "output_type": "stream",
     "text": [
      "24\n"
     ]
    }
   ],
   "source": [
    "n = int(input(\"Enter the number:\"))\n",
    "fact = 1\n",
    "\n",
    "for i in range(1, n+1):\n",
    "    fact *= i\n",
    "print(fact)"
   ]
  },
  {
   "cell_type": "code",
   "execution_count": 31,
   "id": "e8c31eb2",
   "metadata": {},
   "outputs": [
    {
     "name": "stdout",
     "output_type": "stream",
     "text": [
      "24\n"
     ]
    }
   ],
   "source": [
    "import math\n",
    "\n",
    "def factorial(num):\n",
    "    return(math.factorial(num))\n",
    "\n",
    "num = int(input(\"Enter a number:\"))\n",
    "print(factorial(num))"
   ]
  },
  {
   "cell_type": "code",
   "execution_count": 32,
   "id": "1f008a68",
   "metadata": {},
   "outputs": [
    {
     "name": "stdout",
     "output_type": "stream",
     "text": [
      "The Simple Interest is 3.84\n"
     ]
    }
   ],
   "source": [
    "principal = int(input(\"Enter a number:\"))\n",
    "Time = int(input('Enter a number:'))\n",
    "Rate = int(input(\"Enter a Number:\"))\n",
    "\n",
    "SI = (principal*Time*Rate)/100\n",
    "\n",
    "print(f\"The Simple Interest is {SI}\")"
   ]
  },
  {
   "cell_type": "code",
   "execution_count": 33,
   "id": "ee5ab7cc",
   "metadata": {},
   "outputs": [
    {
     "name": "stdout",
     "output_type": "stream",
     "text": [
      "3.84\n"
     ]
    }
   ],
   "source": [
    "def fun(p,t,r):\n",
    "    return (p*t*r)/100\n",
    "p,t,r = 8,6,8\n",
    "result = fun(p,t,r)\n",
    "\n",
    "print(result)"
   ]
  },
  {
   "cell_type": "code",
   "execution_count": 36,
   "id": "83bd3987",
   "metadata": {},
   "outputs": [
    {
     "name": "stdout",
     "output_type": "stream",
     "text": [
      "The Compound Interest is 6288.946267774416\n"
     ]
    }
   ],
   "source": [
    "p = float(input(\"Enter a number:\"))\n",
    "T = float(input('Enter a number:'))\n",
    "R = float(input(\"Enter a Number:\"))\n",
    "\n",
    "Amount = p * (1 + R/100)**T\n",
    "CI = Amount - p\n",
    "print(f\"The Compound Interest is {CI}\")"
   ]
  },
  {
   "cell_type": "code",
   "execution_count": 39,
   "id": "b9514165",
   "metadata": {},
   "outputs": [
    {
     "name": "stdout",
     "output_type": "stream",
     "text": [
      "Compound Interest 6288.946267774416\n"
     ]
    }
   ],
   "source": [
    "def compound_interest(p,r,t):\n",
    "    \n",
    "    Amount = p * (1 + r/100)**t\n",
    "    CI = Amount - p\n",
    "    print(\"Compound Interest\", CI)\n",
    "\n",
    "p = float(input(\"Enter a number\"))\n",
    "r = float(input(\"Enter a number\"))\n",
    "t = float(input(\"Enter a number\"))\n",
    "compound_interest(p,r,t)"
   ]
  },
  {
   "cell_type": "code",
   "execution_count": 30,
   "id": "d8b70d2f",
   "metadata": {},
   "outputs": [
    {
     "name": "stdout",
     "output_type": "stream",
     "text": [
      "151 is_armstrong\n"
     ]
    }
   ],
   "source": [
    "def is_armstrong(num):\n",
    "    num_str = str(num)\n",
    "    n = len(num_str)\n",
    "    sum = 0\n",
    "    for digit in num_str:\n",
    "        sum += int(digit)**n\n",
    "    if sum == num:\n",
    "        return True\n",
    "    else:\n",
    "        return False\n",
    "num = int(input(\"Enter a number:\"))\n",
    "print(f\"{num} is_armstrong\")"
   ]
  },
  {
   "cell_type": "code",
   "execution_count": 3,
   "id": "4f739f29",
   "metadata": {},
   "outputs": [
    {
     "name": "stdout",
     "output_type": "stream",
     "text": [
      "7 is a prime number\n"
     ]
    }
   ],
   "source": [
    "num = int(input(\"Enter a number:\"))\n",
    "\n",
    "if num <= 1:\n",
    "    print(f\"{num} is not a prime number\")\n",
    "else:\n",
    "    for i in range(2, int(num**0.5) + 1):\n",
    "        if num % i == 0:\n",
    "            print(f\"{num} is not a prime number\")\n",
    "            break\n",
    "        else:\n",
    "            print(f\"{num} is a prime number\")"
   ]
  },
  {
   "cell_type": "code",
   "execution_count": 4,
   "id": "659212f8",
   "metadata": {},
   "outputs": [
    {
     "name": "stdout",
     "output_type": "stream",
     "text": [
      "0\n",
      "2\n",
      "4\n",
      "6\n",
      "8\n"
     ]
    }
   ],
   "source": [
    "i = 10\n",
    "for i in range(0,9,2):\n",
    "    print(i)"
   ]
  },
  {
   "cell_type": "code",
   "execution_count": 7,
   "id": "3413e47b",
   "metadata": {},
   "outputs": [
    {
     "name": "stdout",
     "output_type": "stream",
     "text": [
      "Aizen\n",
      "Aizen\n",
      "Aizen\n",
      "Aizen\n",
      "Aizen\n"
     ]
    }
   ],
   "source": [
    "n = 'Aizen'\n",
    "for i in range(5):\n",
    "    print(n)"
   ]
  },
  {
   "cell_type": "code",
   "execution_count": 28,
   "id": "68a11109",
   "metadata": {},
   "outputs": [],
   "source": [
    "n = int(input(\"Enter a number:\"))\n",
    "for n in range(1,n):\n",
    "    if n % 2 == 0:\n",
    "     print(n)\n"
   ]
  },
  {
   "cell_type": "code",
   "execution_count": 78,
   "id": "9272e4d2",
   "metadata": {},
   "outputs": [
    {
     "name": "stdout",
     "output_type": "stream",
     "text": [
      "1 2 3 4 5 6 7 8 9 10 "
     ]
    }
   ],
   "source": [
    "i = 1\n",
    "while i < 11:\n",
    "    print(i, end = ' ')\n",
    "    i += 1"
   ]
  },
  {
   "cell_type": "code",
   "execution_count": 37,
   "id": "0756dd0f",
   "metadata": {},
   "outputs": [
    {
     "name": "stdout",
     "output_type": "stream",
     "text": [
      "17250.0\n"
     ]
    }
   ],
   "source": [
    "basic_salary = float(input(\"Enter a number:\"))\n",
    "tda = (10/100) * basic_salary\n",
    "hra = (5/100) * basic_salary\n",
    "net_salary = basic_salary + tda + hra\n",
    "print(net_salary)"
   ]
  },
  {
   "cell_type": "code",
   "execution_count": 52,
   "id": "5f8aebe6",
   "metadata": {},
   "outputs": [
    {
     "name": "stdout",
     "output_type": "stream",
     "text": [
      "123 is not palindrome\n"
     ]
    }
   ],
   "source": [
    "n = int(input(\"Enter a number:\"))\n",
    "temp = n # it stores the value of n for further use\n",
    "rev = 0 # it stores the reversed value\n",
    "\n",
    "while(n>0):\n",
    "    dig = n%10\n",
    "    rev = rev*10 + dig\n",
    "    n = n//10\n",
    "if (temp == rev):\n",
    "    print(f\"{temp} is palindrome\")\n",
    "else:\n",
    "    print(f\"{temp} is not palindrome\")"
   ]
  },
  {
   "cell_type": "code",
   "execution_count": 56,
   "id": "f80db9cb",
   "metadata": {},
   "outputs": [
    {
     "name": "stdout",
     "output_type": "stream",
     "text": [
      "s Charcter is consonent\n"
     ]
    }
   ],
   "source": [
    "char = input(\"Enter a Character:\")\n",
    "if char.lower() == 'a' or char.lower() == 'e' or char.lower() == 'i' or char.lower() =='o' or char.lower() == 'u':\n",
    "    print(f\"{char} Character is Vowel\")\n",
    "else:\n",
    "    print(f\"{char} Charcter is consonent\")"
   ]
  },
  {
   "cell_type": "code",
   "execution_count": 72,
   "id": "69edbf47",
   "metadata": {},
   "outputs": [
    {
     "name": "stdout",
     "output_type": "stream",
     "text": [
      "153 is_armstrong\n"
     ]
    }
   ],
   "source": [
    "n = int(input(\"Enter a Number:\"))\n",
    "temp = n\n",
    "sum = 0\n",
    "\n",
    "while (temp> 0):\n",
    "    dig = temp % 10\n",
    "    sum += dig**3\n",
    "    temp = temp//10\n",
    "if (n ==  sum):\n",
    "    print(f\"{n} is_armstrong\")\n",
    "else:\n",
    "    print(f\"{n} is not armstrong\")"
   ]
  },
  {
   "cell_type": "code",
   "execution_count": 76,
   "id": "6aad0ebd",
   "metadata": {},
   "outputs": [
    {
     "name": "stdout",
     "output_type": "stream",
     "text": [
      "Aizen\n",
      "Aizen\n",
      "Aizen\n",
      "Aizen\n",
      "Aizen\n"
     ]
    }
   ],
   "source": [
    "name = 'Aizen'\n",
    "i = 5\n",
    "while i > 0:\n",
    "    print(name)\n",
    "    i -= 1\n"
   ]
  },
  {
   "cell_type": "code",
   "execution_count": 81,
   "id": "c13698c1",
   "metadata": {},
   "outputs": [
    {
     "name": "stdout",
     "output_type": "stream",
     "text": [
      "Fibonacci Series\n",
      "0 1 1 2 3 5 8 "
     ]
    }
   ],
   "source": [
    "n = int(input(\"Enter a number:\"))\n",
    "\n",
    "a = 0\n",
    "b = 1\n",
    "count = 0\n",
    "\n",
    "print(\"Fibonacci Series\")\n",
    "\n",
    "while (count < n):\n",
    "    print(a, end = \" \")\n",
    "    a, b = b, a + b\n",
    "    count += 1"
   ]
  },
  {
   "cell_type": "code",
   "execution_count": 82,
   "id": "8583d831",
   "metadata": {},
   "outputs": [
    {
     "name": "stdout",
     "output_type": "stream",
     "text": [
      "987\n"
     ]
    }
   ],
   "source": [
    "n , m = 4, 3\n",
    "a = 0\n",
    "b = 1\n",
    "count = 0\n",
    "\n",
    "while True :\n",
    "    a, b = b, a + b\n",
    "\n",
    "    if b % m == 0:\n",
    "        count += 1\n",
    "\n",
    "        if count == n:\n",
    "            print(b)\n",
    "            break\n"
   ]
  },
  {
   "cell_type": "code",
   "execution_count": 90,
   "id": "f6cf2b6f",
   "metadata": {},
   "outputs": [
    {
     "name": "stdout",
     "output_type": "stream",
     "text": [
      "The ASCII value of 'B' is 66\n"
     ]
    }
   ],
   "source": [
    "c = 'B'\n",
    "\n",
    "print(\"The ASCII value of '\" + c + \"' is\", ord(c))"
   ]
  },
  {
   "cell_type": "code",
   "execution_count": null,
   "id": "2301e6d0",
   "metadata": {},
   "outputs": [
    {
     "name": "stdout",
     "output_type": "stream",
     "text": [
      "55\n"
     ]
    }
   ],
   "source": [
    "#Sum of squares of first N natural numbers \n",
    "\n",
    "n = 5\n",
    "total = 0\n",
    "for i in range(1, n+1):\n",
    "    total += i * i\n",
    "print(total)\n"
   ]
  },
  {
   "cell_type": "code",
   "execution_count": 110,
   "id": "b93a45e0",
   "metadata": {},
   "outputs": [
    {
     "name": "stdout",
     "output_type": "stream",
     "text": [
      "55\n"
     ]
    }
   ],
   "source": [
    "n = 5\n",
    "res = n * (n+1) * (2*n + 1) // 6\n",
    "print(res)"
   ]
  },
  {
   "cell_type": "code",
   "execution_count": 113,
   "id": "899d4603",
   "metadata": {},
   "outputs": [
    {
     "name": "stdout",
     "output_type": "stream",
     "text": [
      "225\n"
     ]
    }
   ],
   "source": [
    "## Python Program for cube sum of first n natural numbers\n",
    "\n",
    "n = 5\n",
    "res = (n * (n + 1) // 2) ** 2\n",
    "print(res)"
   ]
  },
  {
   "cell_type": "code",
   "execution_count": 114,
   "id": "e01743c0",
   "metadata": {},
   "outputs": [
    {
     "name": "stdout",
     "output_type": "stream",
     "text": [
      "225\n"
     ]
    }
   ],
   "source": [
    "#Sum of squares of first N natural numbers \n",
    "\n",
    "n = 5\n",
    "total = 0\n",
    "for i in range(1, n+1):\n",
    "    total += i ** 3\n",
    "print(total)\n"
   ]
  },
  {
   "cell_type": "code",
   "execution_count": 120,
   "id": "656bc0c9",
   "metadata": {},
   "outputs": [
    {
     "name": "stdout",
     "output_type": "stream",
     "text": [
      "Result 5.0\n"
     ]
    }
   ],
   "source": [
    "## Calculator program\n",
    "\n",
    "num1 = float(input(\"Enter a Number:\"))\n",
    "num2 = float(input(\"Enter a number\"))\n",
    "Operator = input(\"Enter a Operator\")\n",
    "\n",
    "if Operator == '+':\n",
    "    result = num1 + num2\n",
    "elif Operator == '-':\n",
    "    result = num1 - num2\n",
    "elif Operator == '*':\n",
    "    result = num1 * num2\n",
    "elif Operator == '/':\n",
    "    if num2 != 0:\n",
    "        result = num1 / num2\n",
    "    else:\n",
    "         result = \"Error! Division by zero\"\n",
    "else:\n",
    "    result = 'Invalid Operator'\n",
    "\n",
    "print('Result', result)"
   ]
  },
  {
   "cell_type": "code",
   "execution_count": 122,
   "id": "4f35905e",
   "metadata": {},
   "outputs": [
    {
     "name": "stdout",
     "output_type": "stream",
     "text": [
      "1 \n",
      "2 3 \n",
      "4 5 6 \n",
      "7 8 9 10 \n"
     ]
    }
   ],
   "source": [
    "rows = 4\n",
    "num = 1\n",
    "\n",
    "for i in range(1, rows + 1):\n",
    "    for j in range(1, i + 1):\n",
    "        print(num, end = \" \")\n",
    "        num += 1\n",
    "    print()"
   ]
  },
  {
   "cell_type": "code",
   "execution_count": 127,
   "id": "9fbd4659",
   "metadata": {},
   "outputs": [
    {
     "name": "stdout",
     "output_type": "stream",
     "text": [
      "* \n",
      "* * \n",
      "* * * \n",
      "* * * * \n",
      "* * * * * \n"
     ]
    }
   ],
   "source": [
    "rows = 5\n",
    "num = '*'\n",
    "for i in range(1, rows + 1):\n",
    "    for j in range(1, i + 1):\n",
    "        print('*', end = \" \")  \n",
    "    print()"
   ]
  },
  {
   "cell_type": "markdown",
   "id": "aa65657e",
   "metadata": {},
   "source": [
    "**LIST**"
   ]
  },
  {
   "cell_type": "code",
   "execution_count": null,
   "id": "394c3e9e",
   "metadata": {},
   "outputs": [
    {
     "name": "stdout",
     "output_type": "stream",
     "text": [
      "['Instagram', 'Youtube', 'whatsapp', 'Chatgpt']\n"
     ]
    }
   ],
   "source": [
    "apps = ['Instagram', 'Youtube', 'whatsapp','Chatgpt']\n",
    "print(apps)"
   ]
  },
  {
   "cell_type": "code",
   "execution_count": 131,
   "id": "773ba20e",
   "metadata": {},
   "outputs": [
    {
     "name": "stdout",
     "output_type": "stream",
     "text": [
      "[1, 2, 3, 4, 5, 6, 7, 8, 9]\n"
     ]
    }
   ],
   "source": [
    "num = [1,2,3,4,5,6,7,8,9]\n",
    "print(num)"
   ]
  },
  {
   "cell_type": "code",
   "execution_count": null,
   "id": "63d62c58",
   "metadata": {},
   "outputs": [
    {
     "name": "stdout",
     "output_type": "stream",
     "text": [
      "[]\n"
     ]
    }
   ],
   "source": [
    "apps = ['Instagram', 'Youtube', 'whatsapp','Chatgpt', 'Facebook', 'Canva', 'Music','Spotify']\n",
    "print(apps[0:8:2]) ## (START:STOP:Space)"
   ]
  },
  {
   "cell_type": "code",
   "execution_count": 157,
   "id": "e0e060ed",
   "metadata": {},
   "outputs": [
    {
     "name": "stdout",
     "output_type": "stream",
     "text": [
      "['Spotify', 'Music', 'Canva', 'Facebook', 'Chatgpt', 'whatsapp', 'Youtube', 'Instagram']\n"
     ]
    }
   ],
   "source": [
    "apps = ['Instagram', 'Youtube', 'whatsapp','Chatgpt', 'Facebook', 'Canva', 'Music','Spotify']\n",
    "print(apps[7::-1]) ## (START:STOP:Space)"
   ]
  },
  {
   "cell_type": "code",
   "execution_count": 158,
   "id": "039ad1b8",
   "metadata": {},
   "outputs": [
    {
     "name": "stdout",
     "output_type": "stream",
     "text": [
      "['Spotify', 'Music', 'Canva', 'Facebook', 'Chatgpt', 'whatsapp', 'Youtube']\n"
     ]
    }
   ],
   "source": [
    "apps = ['Instagram', 'Youtube', 'whatsapp','Chatgpt', 'Facebook', 'Canva', 'Music','Spotify']\n",
    "print(apps[7:0:-1]) ## (START:STOP:Space)"
   ]
  },
  {
   "cell_type": "code",
   "execution_count": 167,
   "id": "6361eb94",
   "metadata": {},
   "outputs": [
    {
     "name": "stdout",
     "output_type": "stream",
     "text": [
      "['Youtube', 'whatsapp', 'Chatgpt', 'Facebook', 'Canva', 'Music', 'Spotify', 'Play Store']\n",
      "['Instagram', 'whatsapp', 'Facebook']\n",
      "['Canva', 'Music', 'Spotify', 'Play Store']\n"
     ]
    }
   ],
   "source": [
    "apps = ['Instagram', 'Youtube', 'whatsapp','Chatgpt', 'Facebook', 'Canva', 'Music','Spotify', 'Play Store']\n",
    "print(apps[1:]) ## (START:STOP:Space)\n",
    "print(apps[:5:2])\n",
    "print(apps[5:9])"
   ]
  },
  {
   "cell_type": "markdown",
   "id": "d5c9876c",
   "metadata": {},
   "source": [
    "list methods\n",
    "- append - to add element at the end of the list\n",
    "- insert - to add an element at the specific position\n",
    "- pop - to delete an element using the index\n",
    "- remove - to delete an element using the element name\n",
    "- copy - to make a copy of list\n",
    "- clear - to delete all items of the list but not the list\n",
    "- sort - to arrange the items in a particular order\n",
    "- extend - to combine two list into one list\n"
   ]
  },
  {
   "cell_type": "code",
   "execution_count": 174,
   "id": "b72a227b",
   "metadata": {},
   "outputs": [
    {
     "name": "stdout",
     "output_type": "stream",
     "text": [
      "['Instagram', 'Youtube', 'whatsapp', 'Chatgpt', 'Facebook', 'Canva', 'Music', 'Spotify', 'Play Store', 'Power BI']\n"
     ]
    }
   ],
   "source": [
    "apps.append(\"Power BI\")\n",
    "print(apps)"
   ]
  },
  {
   "cell_type": "code",
   "execution_count": 175,
   "id": "6750d746",
   "metadata": {},
   "outputs": [
    {
     "name": "stdout",
     "output_type": "stream",
     "text": [
      "['Instagram', 'Youtube', 'Netflix', 'whatsapp', 'Chatgpt', 'Facebook', 'Canva', 'Music', 'Spotify', 'Play Store', 'Power BI']\n"
     ]
    }
   ],
   "source": [
    "apps.insert(2,'Netflix')\n",
    "print(apps)"
   ]
  },
  {
   "cell_type": "code",
   "execution_count": 176,
   "id": "ae60adfd",
   "metadata": {},
   "outputs": [
    {
     "name": "stdout",
     "output_type": "stream",
     "text": [
      "['Instagram', 'Youtube', 'Netflix', 'whatsapp', 'Chatgpt', 'Facebook', 'Canva', 'Music', 'Play Store', 'Power BI']\n"
     ]
    }
   ],
   "source": [
    "apps.pop(8)\n",
    "print(apps)"
   ]
  },
  {
   "cell_type": "code",
   "execution_count": 177,
   "id": "21feca9c",
   "metadata": {},
   "outputs": [
    {
     "name": "stdout",
     "output_type": "stream",
     "text": [
      "['Instagram', 'Youtube', 'Netflix', 'whatsapp', 'Chatgpt', 'Facebook', 'Canva', 'Play Store', 'Power BI']\n"
     ]
    }
   ],
   "source": [
    "apps.remove(\"Music\")\n",
    "print(apps)"
   ]
  },
  {
   "cell_type": "code",
   "execution_count": 181,
   "id": "8740ec60",
   "metadata": {},
   "outputs": [
    {
     "name": "stdout",
     "output_type": "stream",
     "text": [
      "['Instagram', 'Youtube', 'Netflix', 'whatsapp', 'Chatgpt', 'Facebook', 'Canva', 'Play Store', 'Power BI']\n"
     ]
    }
   ],
   "source": [
    "a = apps.copy()\n",
    "print(a)"
   ]
  },
  {
   "cell_type": "code",
   "execution_count": 182,
   "id": "9b57caa0",
   "metadata": {},
   "outputs": [
    {
     "name": "stdout",
     "output_type": "stream",
     "text": [
      "[]\n"
     ]
    }
   ],
   "source": [
    "a.clear()\n",
    "print(a)"
   ]
  },
  {
   "cell_type": "code",
   "execution_count": 184,
   "id": "808abab8",
   "metadata": {},
   "outputs": [
    {
     "name": "stdout",
     "output_type": "stream",
     "text": [
      "['Canva', 'Chatgpt', 'Facebook', 'Instagram', 'Netflix', 'Play Store', 'Power BI', 'Youtube', 'whatsapp']\n"
     ]
    }
   ],
   "source": [
    "apps.sort()\n",
    "print(apps)"
   ]
  },
  {
   "cell_type": "code",
   "execution_count": 185,
   "id": "a9786aa0",
   "metadata": {},
   "outputs": [
    {
     "name": "stdout",
     "output_type": "stream",
     "text": [
      "['Canva', 'Chatgpt', 'Facebook', 'Instagram', 'Netflix', 'Play Store', 'Power BI', 'Youtube', 'whatsapp', 'Aizen', 'Tanjiro', 'Zenitsu']\n"
     ]
    }
   ],
   "source": [
    "anime = [\"Aizen\", 'Tanjiro', 'Zenitsu']\n",
    "apps.extend(anime)\n",
    "print(apps)"
   ]
  },
  {
   "cell_type": "code",
   "execution_count": 1,
   "id": "3cbbfe23",
   "metadata": {},
   "outputs": [
    {
     "name": "stdout",
     "output_type": "stream",
     "text": [
      "36\n"
     ]
    }
   ],
   "source": [
    "a = [2, 4, 6, 7, 8, 9]\n",
    "total = sum(a)  # ✅ built-in sum function\n",
    "print(total)\n"
   ]
  },
  {
   "cell_type": "code",
   "execution_count": 2,
   "id": "0564c2e5",
   "metadata": {},
   "outputs": [
    {
     "name": "stdout",
     "output_type": "stream",
     "text": [
      "36\n"
     ]
    }
   ],
   "source": [
    "a = [2, 4, 6, 7, 8, 9]\n",
    "print(sum(a))"
   ]
  },
  {
   "cell_type": "code",
   "execution_count": 3,
   "id": "1f6ba15e",
   "metadata": {},
   "outputs": [
    {
     "name": "stdout",
     "output_type": "stream",
     "text": [
      "100\n"
     ]
    }
   ],
   "source": [
    "num = [23, 45, 66, 78, 22, 11, 98, 100]\n",
    "print(max(num))"
   ]
  },
  {
   "cell_type": "code",
   "execution_count": 4,
   "id": "42b207c0",
   "metadata": {},
   "outputs": [
    {
     "name": "stdout",
     "output_type": "stream",
     "text": [
      "11\n"
     ]
    }
   ],
   "source": [
    "num = [23, 45, 66, 78, 22, 11, 98, 100]\n",
    "print(min(num))"
   ]
  },
  {
   "cell_type": "markdown",
   "id": "53678d30",
   "metadata": {},
   "source": [
    "\n",
    "- Swap two elements in a list\n",
    "- Ways to find length of list\n",
    "- Ways to check if element exists in list\n",
    "- Different ways to clear a list\n",
    "- R-eversing a List\n",
    "- Find sum of elements in list\n",
    "- Multiply all numbers in the list\n",
    "- Find smallest number in a list\n",
    "- Find largest number in a list\n",
    "- Find second largest number in a list\n",
    "- Find N largest elements from a list\n",
    "- Even numbers in a list\n",
    "- Odd numbers in a List\n",
    "- Print all even numbers in a range\n",
    "- Print all odd numbers in a range\n",
    "- Print positive numbers in a list\n",
    "- Print negative numbers in a list\n",
    "- Print all positive numbers in a range\n",
    "- Print all negative numbers in a range\n",
    "- Remove multiple elements from a list\n",
    "- Remove empty List from List\n",
    "- Cloning or Copying a list\n",
    "- Count occurrences of an element in a list\n",
    "- Remove empty tuples from a list\n",
    "- Print duplicates from a list of integers\n",
    "- Find Cumulative sum of a list\n",
    "- Sum of number digits in List\n",
    "- Break a list into chunks of size N\n",
    "- Sort the values of first list using second list"
   ]
  },
  {
   "cell_type": "code",
   "execution_count": 6,
   "id": "2840d584",
   "metadata": {},
   "outputs": [
    {
     "name": "stdout",
     "output_type": "stream",
     "text": [
      "100\n"
     ]
    }
   ],
   "source": [
    "numbers = [23, 45, 66, 78, 22, 11, 98, 100]\n",
    "largest = numbers[0]\n",
    "for num in numbers:\n",
    "    if num > largest:\n",
    "        largest = num\n",
    "print(largest)"
   ]
  },
  {
   "cell_type": "code",
   "execution_count": null,
   "id": "e335e51e",
   "metadata": {},
   "outputs": [
    {
     "name": "stdout",
     "output_type": "stream",
     "text": [
      "Orginal list:  [1, 2, 3, 4, 5, 6]\n",
      "Rotated List:  [3, 4, 5, 6, 1, 2]\n"
     ]
    }
   ],
   "source": [
    "## Left Rotation\n",
    "numbers = [1,2,3,4,5,6]\n",
    "n = 2\n",
    "\n",
    "rotated = numbers[n:] + numbers[:n]\n",
    "print(\"Orginal list: \", numbers)\n",
    "print(\"Rotated List: \",rotated)"
   ]
  },
  {
   "cell_type": "code",
   "execution_count": null,
   "id": "16ea01e1",
   "metadata": {},
   "outputs": [
    {
     "name": "stdout",
     "output_type": "stream",
     "text": [
      "Orginal list:  [1, 2, 3, 4, 5, 6]\n",
      "Rotated List:  [5, 6, 1, 2, 3, 4]\n"
     ]
    }
   ],
   "source": [
    "## Right Rotation\n",
    "numbers = [1,2,3,4,5,6]\n",
    "n = 2\n",
    "\n",
    "rotated = numbers[-n:] + numbers[:-n]\n",
    "print(\"Orginal list: \", numbers)\n",
    "print(\"Rotated List: \",rotated)"
   ]
  },
  {
   "cell_type": "code",
   "execution_count": 10,
   "id": "311b7873",
   "metadata": {},
   "outputs": [
    {
     "name": "stdout",
     "output_type": "stream",
     "text": [
      "5 6\n",
      "6 5\n"
     ]
    }
   ],
   "source": [
    "n1 = input(\"enter a number\")\n",
    "n2 = input(\"enter a number\")\n",
    "print(n1, n2)\n",
    "n1 , n2 = n2, n1\n",
    "print(n1, n2)"
   ]
  },
  {
   "cell_type": "code",
   "execution_count": 11,
   "id": "aa6a1263",
   "metadata": {},
   "outputs": [
    {
     "name": "stdout",
     "output_type": "stream",
     "text": [
      "List after swapping first and last elements: [9, 2, 3, 4, 5, 6, 7, 8, 1]\n"
     ]
    }
   ],
   "source": [
    "my_list = [1,2,3,4,5,6,7,8,9]\n",
    "\n",
    "my_list[0], my_list[-1] = my_list[-1], my_list[0]\n",
    "print(\"List after swapping first and last elements:\", my_list)"
   ]
  },
  {
   "cell_type": "code",
   "execution_count": 12,
   "id": "5796e9ff",
   "metadata": {},
   "outputs": [
    {
     "name": "stdout",
     "output_type": "stream",
     "text": [
      "9\n"
     ]
    }
   ],
   "source": [
    "apps = ['Instagram', 'Youtube', 'whatsapp','Chatgpt', 'Facebook', 'Canva', 'Music','Spotify', 'Play Store']\n",
    "print(len(apps))"
   ]
  },
  {
   "cell_type": "code",
   "execution_count": null,
   "id": "730f6f11",
   "metadata": {},
   "outputs": [
    {
     "name": "stdout",
     "output_type": "stream",
     "text": [
      "Element exists in the list\n"
     ]
    }
   ],
   "source": [
    "my_list = [1,2,3,4,5,6,7,8,9,10,11,1,2,13,14,15,16,17,18,19,20,21,22,23,24,25,26,27,28,29,30]\n",
    "if 22 in my_list:\n",
    "    print(\"Element exists in the list\")\n",
    "else:\n",
    "        print(\"Element doesn't exists in the list\")"
   ]
  },
  {
   "cell_type": "code",
   "execution_count": 15,
   "id": "95874148",
   "metadata": {},
   "outputs": [
    {
     "name": "stdout",
     "output_type": "stream",
     "text": [
      "[30, 29, 28, 27, 26, 25, 24, 23, 22, 21, 20, 19, 18, 17, 16, 15, 14, 13, 2, 1, 11, 10, 9, 8, 7, 6, 5, 4, 3, 2, 1]\n"
     ]
    }
   ],
   "source": [
    "my_list = [1,2,3,4,5,6,7,8,9,10,11,1,2,13,14,15,16,17,18,19,20,21,22,23,24,25,26,27,28,29,30]\n",
    "my_list.reverse()\n",
    "print(my_list)"
   ]
  },
  {
   "cell_type": "code",
   "execution_count": 16,
   "id": "cf815824",
   "metadata": {},
   "outputs": [
    {
     "name": "stdout",
     "output_type": "stream",
     "text": [
      "384\n"
     ]
    }
   ],
   "source": [
    "a = [2,4,6,8]\n",
    "res = 1\n",
    "for val in a:\n",
    "    res = res*val\n",
    "print(res)"
   ]
  },
  {
   "cell_type": "code",
   "execution_count": 19,
   "id": "d81c2ec7",
   "metadata": {},
   "outputs": [
    {
     "name": "stdout",
     "output_type": "stream",
     "text": [
      "67\n"
     ]
    }
   ],
   "source": [
    "a = [10, 20, 4, 45, 99,67]\n",
    "\n",
    "a.sort(reverse=True)\n",
    "\n",
    "print(a[1])"
   ]
  },
  {
   "cell_type": "code",
   "execution_count": null,
   "id": "381e3ee6",
   "metadata": {},
   "outputs": [
    {
     "name": "stdout",
     "output_type": "stream",
     "text": [
      "[298, 900, 1000, 3579]\n"
     ]
    }
   ],
   "source": [
    "l = [1000, 298, 3579, 100, 200, -45, 900]\n",
    "n = 4 \n",
    "l.sort()\n",
    "print(l[-n:])"
   ]
  },
  {
   "cell_type": "code",
   "execution_count": 31,
   "id": "9bfceea5",
   "metadata": {},
   "outputs": [
    {
     "name": "stdout",
     "output_type": "stream",
     "text": [
      "2 4 6 8 10 12 "
     ]
    }
   ],
   "source": [
    "a = [1,2,3,4,5,6,7,8, 9, 10, 11, 12]\n",
    "for val in a:\n",
    "    if val % 2 == 0:\n",
    "        print(val, end = \" \")"
   ]
  },
  {
   "cell_type": "code",
   "execution_count": 32,
   "id": "5dfb81cd",
   "metadata": {},
   "outputs": [
    {
     "name": "stdout",
     "output_type": "stream",
     "text": [
      "1 3 5 7 9 11 "
     ]
    }
   ],
   "source": [
    "a = [1,2,3,4,5,6,7,8, 9, 10, 11, 12]\n",
    "for val in a:\n",
    "    if val % 2 != 0:\n",
    "        print(val, end = \" \")"
   ]
  },
  {
   "cell_type": "code",
   "execution_count": 34,
   "id": "1131bc12",
   "metadata": {},
   "outputs": [
    {
     "name": "stdout",
     "output_type": "stream",
     "text": [
      "2 4 6 8 10 "
     ]
    }
   ],
   "source": [
    "s = 1\n",
    "e = 10\n",
    "\n",
    "for i in range(s, e+1):\n",
    "    if i%2 == 0:\n",
    "        print(i, end = \" \")"
   ]
  },
  {
   "cell_type": "code",
   "execution_count": 36,
   "id": "108fc35d",
   "metadata": {},
   "outputs": [
    {
     "name": "stdout",
     "output_type": "stream",
     "text": [
      "1 3 5 7 9 "
     ]
    }
   ],
   "source": [
    "s = 1\n",
    "e = 10\n",
    "for i in range(s, e+1):\n",
    "    if i % 2 != 0:\n",
    "        print(i, end = \" \")"
   ]
  },
  {
   "cell_type": "code",
   "execution_count": null,
   "id": "07cbb6da",
   "metadata": {},
   "outputs": [
    {
     "name": "stdout",
     "output_type": "stream",
     "text": [
      "1 10 4 6 "
     ]
    }
   ],
   "source": [
    "n = [1, 10, -20, -3, 4, 6]\n",
    "for val in n:\n",
    "    if val > 0:\n",
    "        print(val, end = \" \")"
   ]
  },
  {
   "cell_type": "code",
   "execution_count": 41,
   "id": "6ef766bf",
   "metadata": {},
   "outputs": [
    {
     "name": "stdout",
     "output_type": "stream",
     "text": [
      "-20 -3 "
     ]
    }
   ],
   "source": [
    "n = [1, 10, -20, -3, 4, 6]\n",
    "for val in n:\n",
    "    if val < 0:\n",
    "        print(val, end = \" \")"
   ]
  },
  {
   "cell_type": "code",
   "execution_count": 43,
   "id": "6266ed3f",
   "metadata": {},
   "outputs": [
    {
     "name": "stdout",
     "output_type": "stream",
     "text": [
      "1\n",
      "2\n",
      "3\n"
     ]
    }
   ],
   "source": [
    "start = -5\n",
    "end = 3\n",
    "\n",
    "for i in range(start, end+1):\n",
    "    if i > 0:\n",
    "        print(i)"
   ]
  },
  {
   "cell_type": "code",
   "execution_count": 45,
   "id": "4e3dd56a",
   "metadata": {},
   "outputs": [
    {
     "name": "stdout",
     "output_type": "stream",
     "text": [
      "-5 -4 -3 -2 -1 "
     ]
    }
   ],
   "source": [
    "start = -5\n",
    "end = 3\n",
    "\n",
    "for i in range(start, end+1):\n",
    "    if i < 0:\n",
    "        print(i, end = \" \")"
   ]
  },
  {
   "cell_type": "code",
   "execution_count": 48,
   "id": "e3b1cbd4",
   "metadata": {},
   "outputs": [
    {
     "name": "stdout",
     "output_type": "stream",
     "text": [
      "[10, 50, 60, 70]\n"
     ]
    }
   ],
   "source": [
    "a = [10, 20, 30, 40, 50, 60, 70]\n",
    "remove = [20, 30, 40]\n",
    "res = []\n",
    "for val in a:\n",
    "    if val not in remove:\n",
    "        res.append(val)\n",
    "print(res)"
   ]
  },
  {
   "cell_type": "code",
   "execution_count": 49,
   "id": "7ccab485",
   "metadata": {},
   "outputs": [
    {
     "name": "stdout",
     "output_type": "stream",
     "text": [
      "[10, 30, 50, 70]\n"
     ]
    }
   ],
   "source": [
    "a = [10, 20, 30, 40, 50, 60, 70]\n",
    "remove = {20, 40, 60}\n",
    "\n",
    "a = list(filter(lambda x: x not in remove, a))\n",
    "print(a)"
   ]
  },
  {
   "cell_type": "code",
   "execution_count": 51,
   "id": "02b936fc",
   "metadata": {},
   "outputs": [
    {
     "name": "stdout",
     "output_type": "stream",
     "text": [
      "[[1, 2], [3, 4], [5]]\n"
     ]
    }
   ],
   "source": [
    "a = [[1, 2], [], [3, 4], [], [5]]\n",
    "res = list(filter(lambda b: b, a))\n",
    "print(res)"
   ]
  },
  {
   "cell_type": "code",
   "execution_count": 60,
   "id": "bd70f81d",
   "metadata": {},
   "outputs": [
    {
     "name": "stdout",
     "output_type": "stream",
     "text": [
      "[8, 2, 3]\n"
     ]
    }
   ],
   "source": [
    "a = [1,2,3,4,5,3,2,6,7,8,8,9]\n",
    "\n",
    "duplicates = list(set(filter(lambda x: a.count(x) > 1, a)))\n",
    "print(duplicates)"
   ]
  },
  {
   "cell_type": "code",
   "execution_count": null,
   "id": "0fb8aab7",
   "metadata": {},
   "outputs": [
    {
     "name": "stdout",
     "output_type": "stream",
     "text": [
      "[1, 3, 6, 10]\n"
     ]
    }
   ],
   "source": [
    "l = [1,2,3,4]\n",
    "\n",
    "total = 0\n",
    "cumulative_sum = []\n",
    "\n",
    "for val in l:\n",
    "    #  # Add the current number to the running total\n",
    "    total += val\n",
    "    # Store the running total in the result list\n",
    "    cumulative_sum.append(total)\n",
    "print(cumulative_sum)"
   ]
  },
  {
   "cell_type": "code",
   "execution_count": 65,
   "id": "05e6d33f",
   "metadata": {},
   "outputs": [
    {
     "name": "stdout",
     "output_type": "stream",
     "text": [
      "[6, 15, 24]\n"
     ]
    }
   ],
   "source": [
    "a = [123,456, 789]\n",
    "res = []\n",
    "\n",
    "for val in a:\n",
    "    total = 0\n",
    "    while val > 0:\n",
    "        total += val % 10\n",
    "        val //= 10\n",
    "    res.append(total)\n",
    "print(res)"
   ]
  },
  {
   "cell_type": "code",
   "execution_count": 67,
   "id": "4c8ca858",
   "metadata": {},
   "outputs": [
    {
     "name": "stdout",
     "output_type": "stream",
     "text": [
      "[6, 9, 6, 24]\n"
     ]
    }
   ],
   "source": [
    "numbers = [123, 45, 6, 789]\n",
    "\n",
    "digit_sums = list(map(lambda x: sum(int(d) for d in str(x)), numbers))\n",
    "print(digit_sums)"
   ]
  },
  {
   "cell_type": "code",
   "execution_count": null,
   "id": "a59458b5",
   "metadata": {},
   "outputs": [
    {
     "name": "stdout",
     "output_type": "stream",
     "text": [
      "[[1, 2, 3], [4, 5, 6], [7, 8]]\n"
     ]
    }
   ],
   "source": [
    "numbers = [1, 2, 3, 4, 5, 6, 7, 8]\n",
    "N = 3\n",
    "Chunks = [numbers[i:i+N] for i in range(0, len(numbers),N)] #numbers[i:i+N] \n",
    "#Takes a slice of the list starting at index i and ending at i+N (not inclusive).\n",
    "print(Chunks)"
   ]
  },
  {
   "cell_type": "code",
   "execution_count": 70,
   "id": "c92a06dd",
   "metadata": {},
   "outputs": [
    {
     "name": "stdout",
     "output_type": "stream",
     "text": [
      "['b', 'd', 'a', 'c']\n"
     ]
    }
   ],
   "source": [
    "a = ['a', 'b', 'c', 'd']\n",
    "b = [3, 1 ,4 ,2]\n",
    "\n",
    "x = [val for _, val in sorted(zip(b, a))]\n",
    "print(x)"
   ]
  },
  {
   "cell_type": "code",
   "execution_count": 4,
   "id": "eacba9dc",
   "metadata": {},
   "outputs": [
    {
     "name": "stdout",
     "output_type": "stream",
     "text": [
      "131 is pallindrome\n"
     ]
    }
   ],
   "source": [
    "n = int(input('Enter a number:'))\n",
    "temp = n\n",
    "rev = 0\n",
    "while (n>0):\n",
    "    dig = n%10\n",
    "    rev = rev*10 + dig\n",
    "    n = n//10\n",
    "if(temp == rev):\n",
    "        print(f'{temp} is pallindrome')\n",
    "else:\n",
    "        print(f'{temp} is not pallindrome')"
   ]
  },
  {
   "cell_type": "code",
   "execution_count": 22,
   "id": "2d5f1c58",
   "metadata": {},
   "outputs": [
    {
     "name": "stdout",
     "output_type": "stream",
     "text": [
      "153 is Armstrong\n"
     ]
    }
   ],
   "source": [
    "m = int(input('Enter a Number:'))\n",
    "temp = m\n",
    "sum = 0\n",
    "while(temp>0):\n",
    "    dig = temp%10\n",
    "    sum = sum + dig**3\n",
    "    temp //= 10\n",
    "if(m == sum):\n",
    "    print(f'{m} is Armstrong')\n",
    "else:\n",
    "    print(f'{m} is not Armstrong')"
   ]
  },
  {
   "cell_type": "code",
   "execution_count": 13,
   "id": "bf1a07bd",
   "metadata": {},
   "outputs": [
    {
     "name": "stdout",
     "output_type": "stream",
     "text": [
      "1 \n",
      "2 3 \n",
      "4 5 6 \n",
      "7 8 9 10 \n"
     ]
    }
   ],
   "source": [
    "rows = 4\n",
    "num = 1\n",
    "for i in range(1, rows + 1):\n",
    "    for j in range(1, i + 1):\n",
    "        print(num, end = \" \")\n",
    "        num += 1\n",
    "    print()"
   ]
  },
  {
   "cell_type": "code",
   "execution_count": 15,
   "id": "aae06f81",
   "metadata": {},
   "outputs": [
    {
     "name": "stdout",
     "output_type": "stream",
     "text": [
      "* \n",
      "* * \n",
      "* * * \n",
      "* * * * \n",
      "* * * * * \n",
      "* * * * * * \n"
     ]
    }
   ],
   "source": [
    "rows = int(input(\"Enter a Number:\"))\n",
    "for i in range(1, rows+1):\n",
    "    for j in range(1, i+1):\n",
    "        print(\"*\", end = \" \")\n",
    "    print()"
   ]
  },
  {
   "cell_type": "code",
   "execution_count": 10,
   "id": "7ac50171",
   "metadata": {},
   "outputs": [
    {
     "name": "stdout",
     "output_type": "stream",
     "text": [
      "* * * * * \n",
      "* * * * \n",
      "* * * \n",
      "* * \n",
      "* \n"
     ]
    }
   ],
   "source": [
    "rows = int(input(\"Enter a Number\"))\n",
    "for i in range(rows, 0, -1):\n",
    "    for j in range(1, i + 1):\n",
    "        print(\"*\", end= \" \")\n",
    "    print()"
   ]
  },
  {
   "cell_type": "markdown",
   "id": "7d623cf9",
   "metadata": {},
   "source": [
    "Diamond Pattern"
   ]
  },
  {
   "cell_type": "code",
   "execution_count": 23,
   "id": "103466c5",
   "metadata": {},
   "outputs": [
    {
     "name": "stdout",
     "output_type": "stream",
     "text": [
      "        * \n",
      "      * * * \n",
      "    * * * * * \n",
      "  * * * * * * * \n",
      "* * * * * * * * * \n",
      "* * * * * * * * * \n",
      "  * * * * * * * \n",
      "    * * * * * \n",
      "      * * * \n",
      "        * \n"
     ]
    }
   ],
   "source": [
    "rows = int(input(\"Enter a number:\"))\n",
    "for i in range(1, rows + 1):\n",
    "    for j in range(rows -i):\n",
    "        print(\" \", end = \" \")\n",
    "    for k in range(1, 2 * i):\n",
    "        print(\"*\", end = \" \")\n",
    "    print()\n",
    "for i in range(rows, 0 ,-1):\n",
    "    for j in range(rows - i):\n",
    "        print(\" \", end=\" \")\n",
    "    for k in range(1, 2 * i):\n",
    "        print(\"*\", end = \" \")\n",
    "    print()\n",
    "    "
   ]
  },
  {
   "cell_type": "code",
   "execution_count": 25,
   "id": "205cc4be",
   "metadata": {},
   "outputs": [
    {
     "name": "stdout",
     "output_type": "stream",
     "text": [
      "* * \n",
      "  * * * \n",
      "    * * * * \n",
      "      * * * * * \n"
     ]
    }
   ],
   "source": [
    "rows = int(input(\"Enter a Number:\"))\n",
    "n = 1\n",
    "for i in range(1, rows + 1):\n",
    "    for j in range(1, i ):\n",
    "        print(\" \", end = \" \")\n",
    "    for k in range(1, i+2):\n",
    "        print(\"*\", end = \" \")\n",
    "    print()"
   ]
  },
  {
   "cell_type": "code",
   "execution_count": null,
   "id": "db7505b6",
   "metadata": {},
   "outputs": [],
   "source": [
    "n = int(input(\"Enter a Number:\"))\n",
    "if n >= 3 and n % 2 != 0:\n",
    "    for i in range(1, n+1,2):\n",
    "        for j in range(n):\n",
    "            print()"
   ]
  },
  {
   "cell_type": "code",
   "execution_count": 36,
   "id": "13304df6",
   "metadata": {},
   "outputs": [
    {
     "name": "stdout",
     "output_type": "stream",
     "text": [
      "* * * * * \n",
      "*       * \n",
      "*       * \n",
      "*       * \n",
      "* * * * * \n"
     ]
    }
   ],
   "source": [
    "rows = int(input(\"Enter a Number\"))\n",
    "for i in range(1, rows+1):  # Outer loop for rows\n",
    "    for j in range(1, rows + 1): # Inner loop for columns\n",
    "        if i == 1 or i == rows or j == 1 or j == rows:   # Print star only on borders\n",
    "            print(\"*\", end=\" \")\n",
    "        else:\n",
    "            print(\" \", end=\" \") # Print space inside\n",
    "    print()"
   ]
  },
  {
   "cell_type": "code",
   "execution_count": 47,
   "id": "e7b2bb5c",
   "metadata": {},
   "outputs": [
    {
     "name": "stdout",
     "output_type": "stream",
     "text": [
      "* \n",
      "* * \n",
      "*   * \n",
      "*     * \n",
      "*       * \n",
      "* * * * * * \n"
     ]
    }
   ],
   "source": [
    "rows = int(input(\"Enter a Number:\"))\n",
    "for i in range(1, rows + 1):\n",
    "    for j in range(1, i + 1):\n",
    "        if i == rows or j == 1 or i == j:\n",
    "            print(\"*\", end=\" \")\n",
    "        else:\n",
    "            print(\" \",end=\" \")\n",
    "    print()"
   ]
  },
  {
   "cell_type": "code",
   "execution_count": null,
   "id": "d9aa2547",
   "metadata": {},
   "outputs": [],
   "source": []
  },
  {
   "cell_type": "code",
   "execution_count": null,
   "id": "8cef72a4",
   "metadata": {},
   "outputs": [],
   "source": []
  },
  {
   "cell_type": "code",
   "execution_count": null,
   "id": "1aded057",
   "metadata": {},
   "outputs": [],
   "source": []
  },
  {
   "cell_type": "code",
   "execution_count": null,
   "id": "b63b506f",
   "metadata": {},
   "outputs": [],
   "source": []
  },
  {
   "cell_type": "code",
   "execution_count": null,
   "id": "bf5c0f72",
   "metadata": {},
   "outputs": [],
   "source": []
  },
  {
   "cell_type": "code",
   "execution_count": null,
   "id": "1ac7c190",
   "metadata": {},
   "outputs": [],
   "source": []
  },
  {
   "cell_type": "code",
   "execution_count": null,
   "id": "09792548",
   "metadata": {},
   "outputs": [],
   "source": []
  },
  {
   "cell_type": "code",
   "execution_count": null,
   "id": "3bc5a6e2",
   "metadata": {},
   "outputs": [],
   "source": []
  },
  {
   "cell_type": "code",
   "execution_count": null,
   "id": "84540d2e",
   "metadata": {},
   "outputs": [],
   "source": []
  },
  {
   "cell_type": "code",
   "execution_count": null,
   "id": "3e800dcd",
   "metadata": {},
   "outputs": [],
   "source": []
  },
  {
   "cell_type": "code",
   "execution_count": null,
   "id": "a4ebe51b",
   "metadata": {},
   "outputs": [],
   "source": []
  },
  {
   "cell_type": "code",
   "execution_count": null,
   "id": "a089313c",
   "metadata": {},
   "outputs": [],
   "source": []
  },
  {
   "cell_type": "code",
   "execution_count": null,
   "id": "01d47dae",
   "metadata": {},
   "outputs": [],
   "source": []
  },
  {
   "cell_type": "code",
   "execution_count": null,
   "id": "ea4aa238",
   "metadata": {},
   "outputs": [],
   "source": []
  },
  {
   "cell_type": "code",
   "execution_count": null,
   "id": "81be9caa",
   "metadata": {},
   "outputs": [],
   "source": []
  },
  {
   "cell_type": "code",
   "execution_count": null,
   "id": "7225ed6b",
   "metadata": {},
   "outputs": [],
   "source": []
  },
  {
   "cell_type": "code",
   "execution_count": null,
   "id": "a3ad3bb6",
   "metadata": {},
   "outputs": [],
   "source": []
  },
  {
   "cell_type": "code",
   "execution_count": null,
   "id": "6e6f6470",
   "metadata": {},
   "outputs": [],
   "source": []
  },
  {
   "cell_type": "code",
   "execution_count": null,
   "id": "08c65702",
   "metadata": {},
   "outputs": [],
   "source": []
  },
  {
   "cell_type": "code",
   "execution_count": null,
   "id": "ed3308cb",
   "metadata": {},
   "outputs": [],
   "source": []
  },
  {
   "cell_type": "code",
   "execution_count": null,
   "id": "23839270",
   "metadata": {},
   "outputs": [],
   "source": []
  },
  {
   "cell_type": "code",
   "execution_count": null,
   "id": "14c410af",
   "metadata": {},
   "outputs": [],
   "source": []
  },
  {
   "cell_type": "code",
   "execution_count": null,
   "id": "0cd9a27f",
   "metadata": {},
   "outputs": [],
   "source": []
  },
  {
   "cell_type": "code",
   "execution_count": null,
   "id": "09e5073e",
   "metadata": {},
   "outputs": [],
   "source": []
  },
  {
   "cell_type": "code",
   "execution_count": null,
   "id": "1dca813b",
   "metadata": {},
   "outputs": [],
   "source": []
  },
  {
   "cell_type": "code",
   "execution_count": null,
   "id": "1ee5e50a",
   "metadata": {},
   "outputs": [],
   "source": []
  },
  {
   "cell_type": "code",
   "execution_count": null,
   "id": "c2af1e65",
   "metadata": {},
   "outputs": [],
   "source": []
  },
  {
   "cell_type": "code",
   "execution_count": null,
   "id": "4efd9507",
   "metadata": {},
   "outputs": [],
   "source": []
  },
  {
   "cell_type": "code",
   "execution_count": null,
   "id": "9f1b0597",
   "metadata": {},
   "outputs": [],
   "source": []
  },
  {
   "cell_type": "code",
   "execution_count": null,
   "id": "cac4f7ae",
   "metadata": {},
   "outputs": [],
   "source": []
  },
  {
   "cell_type": "code",
   "execution_count": null,
   "id": "68433745",
   "metadata": {},
   "outputs": [],
   "source": []
  },
  {
   "cell_type": "code",
   "execution_count": null,
   "id": "fbc92021",
   "metadata": {},
   "outputs": [],
   "source": []
  },
  {
   "cell_type": "code",
   "execution_count": null,
   "id": "3f509597",
   "metadata": {},
   "outputs": [],
   "source": []
  }
 ],
 "metadata": {
  "kernelspec": {
   "display_name": "base",
   "language": "python",
   "name": "python3"
  },
  "language_info": {
   "codemirror_mode": {
    "name": "ipython",
    "version": 3
   },
   "file_extension": ".py",
   "mimetype": "text/x-python",
   "name": "python",
   "nbconvert_exporter": "python",
   "pygments_lexer": "ipython3",
   "version": "3.13.5"
  }
 },
 "nbformat": 4,
 "nbformat_minor": 5
}
