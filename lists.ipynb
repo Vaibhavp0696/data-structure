{
 "cells": [
  {
   "cell_type": "code",
   "execution_count": 93,
   "metadata": {},
   "outputs": [
    {
     "name": "stdout",
     "output_type": "stream",
     "text": [
      "['Whatsapp', 'twitter', 'telegram', 'play store']\n"
     ]
    }
   ],
   "source": [
    "apps = ['Instagram','Whatsapp','Snapchat','twitter','facebook','telegram','maps','play store','photos','swiggy']\n",
    "print(apps[1:8:2])\n"
   ]
  },
  {
   "cell_type": "code",
   "execution_count": 94,
   "metadata": {},
   "outputs": [
    {
     "name": "stdout",
     "output_type": "stream",
     "text": [
      "['swiggy', 'play store', 'telegram', 'twitter']\n"
     ]
    }
   ],
   "source": [
    "apps = ['Instagram','Whatsapp','Snapchat','twitter','facebook','telegram','maps','play store','photos','swiggy']\n",
    "print(apps[9:2:-2])\n"
   ]
  },
  {
   "cell_type": "code",
   "execution_count": 95,
   "metadata": {},
   "outputs": [
    {
     "name": "stdout",
     "output_type": "stream",
     "text": [
      "['Snapchat', 'twitter', 'facebook', 'telegram', 'maps', 'play store', 'photos', 'swiggy']\n",
      "['telegram', 'maps', 'play store', 'photos']\n"
     ]
    }
   ],
   "source": [
    "apps = ['Instagram','Whatsapp','Snapchat','twitter','facebook','telegram','maps','play store','photos','swiggy']\n",
    "print(apps[2:])\n",
    "print(apps[5:9])\n"
   ]
  },
  {
   "cell_type": "markdown",
   "metadata": {},
   "source": [
    "list methods\n",
    "- append - to add element at the end of the list\n",
    "- insert - to add an element at the specific position\n",
    "- pop - to delete an element using the index\n",
    "- remove - to delete an element using the element name\n",
    "- copy - to make a copy of list\n",
    "- clear - to delete all items of the list but not the list\n",
    "- sort - to arrange the items in a particular order\n",
    "- extend - to combine two list into one list"
   ]
  },
  {
   "cell_type": "code",
   "execution_count": 96,
   "metadata": {},
   "outputs": [
    {
     "name": "stdout",
     "output_type": "stream",
     "text": [
      "['Instagram', 'Whatsapp', 'Snapchat', 'twitter', 'facebook', 'telegram', 'maps', 'play store', 'photos', 'swiggy', 'facebook']\n"
     ]
    }
   ],
   "source": [
    "apps.append(\"facebook\")\n",
    "print(apps)"
   ]
  },
  {
   "cell_type": "code",
   "execution_count": 97,
   "metadata": {},
   "outputs": [
    {
     "name": "stdout",
     "output_type": "stream",
     "text": [
      "['Instagram', 'Whatsapp', 'chalo', 'Snapchat', 'twitter', 'facebook', 'telegram', 'maps', 'play store', 'photos', 'swiggy', 'facebook']\n"
     ]
    }
   ],
   "source": [
    "apps.insert(2,\"chalo\")\n",
    "print(apps)"
   ]
  },
  {
   "cell_type": "code",
   "execution_count": 98,
   "metadata": {},
   "outputs": [
    {
     "name": "stdout",
     "output_type": "stream",
     "text": [
      "['Instagram', 'Whatsapp', 'Snapchat', 'twitter', 'facebook', 'telegram', 'maps', 'play store', 'photos', 'swiggy', 'facebook']\n"
     ]
    }
   ],
   "source": [
    "apps.pop(2)\n",
    "print(apps)"
   ]
  },
  {
   "cell_type": "code",
   "execution_count": 99,
   "metadata": {},
   "outputs": [
    {
     "name": "stdout",
     "output_type": "stream",
     "text": [
      "['Instagram', 'Whatsapp', 'Snapchat', 'twitter', 'facebook', 'maps', 'play store', 'photos', 'swiggy', 'facebook']\n"
     ]
    }
   ],
   "source": [
    "apps.remove(\"telegram\")\n",
    "print(apps)"
   ]
  },
  {
   "cell_type": "code",
   "execution_count": 100,
   "metadata": {},
   "outputs": [
    {
     "name": "stdout",
     "output_type": "stream",
     "text": [
      "['Instagram', 'Whatsapp', 'Snapchat', 'twitter', 'facebook', 'maps', 'play store', 'photos', 'swiggy', 'facebook']\n"
     ]
    }
   ],
   "source": [
    "a = apps.copy()\n",
    "print(a)"
   ]
  },
  {
   "cell_type": "code",
   "execution_count": 103,
   "metadata": {},
   "outputs": [
    {
     "name": "stdout",
     "output_type": "stream",
     "text": [
      "\n"
     ]
    }
   ],
   "source": [
    "a.clear()\n",
    "print()"
   ]
  },
  {
   "cell_type": "code",
   "execution_count": 104,
   "metadata": {},
   "outputs": [
    {
     "name": "stdout",
     "output_type": "stream",
     "text": [
      "['Instagram', 'Snapchat', 'Whatsapp', 'facebook', 'facebook', 'maps', 'photos', 'play store', 'swiggy', 'twitter']\n"
     ]
    }
   ],
   "source": [
    "apps.sort()\n",
    "print(apps)"
   ]
  },
  {
   "cell_type": "code",
   "execution_count": 105,
   "metadata": {},
   "outputs": [
    {
     "name": "stdout",
     "output_type": "stream",
     "text": [
      "['Instagram', 'Snapchat', 'Whatsapp', 'facebook', 'facebook', 'maps', 'photos', 'play store', 'swiggy', 'twitter', 'Naruto', 'bleach', 'Aot']\n"
     ]
    }
   ],
   "source": [
    "anime = [\"Naruto\",\"bleach\",\"Aot\"]\n",
    "apps.extend(anime)\n",
    "print(apps)"
   ]
  },
  {
   "cell_type": "code",
   "execution_count": null,
   "metadata": {},
   "outputs": [],
   "source": []
  },
  {
   "cell_type": "code",
   "execution_count": null,
   "metadata": {},
   "outputs": [],
   "source": []
  }
 ],
 "metadata": {
  "kernelspec": {
   "display_name": "base",
   "language": "python",
   "name": "python3"
  },
  "language_info": {
   "codemirror_mode": {
    "name": "ipython",
    "version": 3
   },
   "file_extension": ".py",
   "mimetype": "text/x-python",
   "name": "python",
   "nbconvert_exporter": "python",
   "pygments_lexer": "ipython3",
   "version": "3.12.7"
  }
 },
 "nbformat": 4,
 "nbformat_minor": 2
}
