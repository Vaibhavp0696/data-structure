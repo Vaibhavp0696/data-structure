{
 "cells": [
  {
   "cell_type": "code",
   "execution_count": 12,
   "metadata": {},
   "outputs": [
    {
     "name": "stdout",
     "output_type": "stream",
     "text": [
      "Yarre Yarre\n",
      "Yokoso Watashi No Soul Society\n"
     ]
    }
   ],
   "source": [
    "def myfunc():\n",
    "    print(\"Yarre Yarre\")\n",
    "    print(\"Yokoso Watashi No Soul Society\")\n",
    "myfunc()    "
   ]
  },
  {
   "cell_type": "markdown",
   "metadata": {},
   "source": [
    "Parameterized Function"
   ]
  },
  {
   "cell_type": "markdown",
   "metadata": {},
   "source": []
  },
  {
   "cell_type": "code",
   "execution_count": null,
   "metadata": {},
   "outputs": [
    {
     "data": {
      "text/plain": [
       "40"
      ]
     },
     "execution_count": 36,
     "metadata": {},
     "output_type": "execute_result"
    }
   ],
   "source": [
    "# non returned function\n",
    "def myfunc(a,b):\n",
    "    return a * b\n",
    "    \n",
    "myfunc(4,10) #arguements"
   ]
  },
  {
   "cell_type": "code",
   "execution_count": 37,
   "metadata": {},
   "outputs": [
    {
     "name": "stdout",
     "output_type": "stream",
     "text": [
      "60\n"
     ]
    }
   ],
   "source": [
    "# returned function\n",
    "def add(x,y,z):\n",
    "    return x+y+z\n",
    "x = add(10,20,30)\n",
    "print(x)"
   ]
  },
  {
   "cell_type": "code",
   "execution_count": 50,
   "metadata": {},
   "outputs": [],
   "source": [
    "def my_country(country = \"India\"):\n",
    "    print(\"I am from \" + country)"
   ]
  },
  {
   "cell_type": "code",
   "execution_count": 54,
   "metadata": {},
   "outputs": [
    {
     "name": "stdout",
     "output_type": "stream",
     "text": [
      "I am from USA\n",
      "I am from India\n",
      "I am from Australia\n",
      "I am from Japan\n"
     ]
    }
   ],
   "source": [
    "my_country(\"USA\")\n",
    "my_country()\n",
    "my_country(\"Australia\")\n",
    "my_country(\"Japan\")"
   ]
  },
  {
   "cell_type": "code",
   "execution_count": 55,
   "metadata": {},
   "outputs": [
    {
     "name": "stdout",
     "output_type": "stream",
     "text": [
      "apple\n",
      "banana\n",
      "cherry\n"
     ]
    }
   ],
   "source": [
    "def my_food(food):\n",
    "    for x in food:\n",
    "        print(x)\n",
    "fruits = [\"apple\",\"banana\",\"cherry\"]\n",
    "my_food(fruits)"
   ]
  },
  {
   "cell_type": "markdown",
   "metadata": {},
   "source": [
    "lambda Functions"
   ]
  },
  {
   "cell_type": "code",
   "execution_count": 57,
   "metadata": {},
   "outputs": [
    {
     "name": "stdout",
     "output_type": "stream",
     "text": [
      "Even\n"
     ]
    }
   ],
   "source": [
    "even_odd = lambda x: \"Even\" if x % 2 == 0 else \"Odd\"\n",
    "print(even_odd(12))"
   ]
  },
  {
   "cell_type": "code",
   "execution_count": 58,
   "metadata": {},
   "outputs": [
    {
     "name": "stdout",
     "output_type": "stream",
     "text": [
      "50\n"
     ]
    }
   ],
   "source": [
    "sum = lambda x,y,z : x+y+z\n",
    "print(sum(12,33,5))"
   ]
  },
  {
   "cell_type": "code",
   "execution_count": 70,
   "metadata": {},
   "outputs": [
    {
     "name": "stdout",
     "output_type": "stream",
     "text": [
      "Not a prime number\n"
     ]
    }
   ],
   "source": [
    "def prime(n):\n",
    "    counter = 0\n",
    "    for i in range(2,n):\n",
    "        if n % i == 0:\n",
    "            counter += 1\n",
    "    if counter == 0:\n",
    "        print(\"Prime Number\")\n",
    "    else:\n",
    "        print(\"Not a prime number\")\n",
    "(prime(8))"
   ]
  },
  {
   "cell_type": "code",
   "execution_count": 74,
   "metadata": {},
   "outputs": [
    {
     "name": "stdout",
     "output_type": "stream",
     "text": [
      "x is large\n"
     ]
    }
   ],
   "source": [
    "def max_num(x,y,z):\n",
    "    if x > y:\n",
    "        print(\"x is large\")\n",
    "    elif y > z :\n",
    "        print(\"y is large\")\n",
    "    else:\n",
    "        print(\"z is largest\")\n",
    "max_num(33,22,10)"
   ]
  },
  {
   "cell_type": "code",
   "execution_count": 76,
   "metadata": {},
   "outputs": [
    {
     "name": "stdout",
     "output_type": "stream",
     "text": [
      "120\n"
     ]
    }
   ],
   "source": [
    "def fact(n):\n",
    "    f = 1\n",
    "    for i in range(1,n+1):\n",
    "        f *= i\n",
    "    print(f)\n",
    "fact(5)"
   ]
  },
  {
   "cell_type": "code",
   "execution_count": 16,
   "metadata": {},
   "outputs": [
    {
     "name": "stdout",
     "output_type": "stream",
     "text": [
      "HADAM\n"
     ]
    }
   ],
   "source": [
    "def mystr(str):\n",
    "    rev_str = str[::-1]\n",
    "    print(rev_str)\n",
    "mystr(\"MADAH\")\n",
    "\n"
   ]
  },
  {
   "cell_type": "code",
   "execution_count": 90,
   "metadata": {},
   "outputs": [
    {
     "name": "stdout",
     "output_type": "stream",
     "text": [
      "4\n"
     ]
    }
   ],
   "source": [
    "def ne_str(str):\n",
    "    count = 0\n",
    "    for char in str:\n",
    "        if (char in \"aAeEiIoOuU\"):\n",
    "            count += 1\n",
    "    print(count)\n",
    "ne_str(\"Some test TEXT\")"
   ]
  },
  {
   "cell_type": "code",
   "execution_count": 2,
   "metadata": {},
   "outputs": [
    {
     "name": "stdout",
     "output_type": "stream",
     "text": [
      "23.661438615467823\n"
     ]
    }
   ],
   "source": [
    "def bmi(w,h):\n",
    "    bmical = (w/h**2)\n",
    "    \n",
    "    print(bmical)\n",
    "bmi(70,1.72)"
   ]
  },
  {
   "cell_type": "code",
   "execution_count": 1,
   "metadata": {},
   "outputs": [
    {
     "name": "stdout",
     "output_type": "stream",
     "text": [
      "96.8\n"
     ]
    }
   ],
   "source": [
    "def cel(C):\n",
    "    f = (1.8 * C) + 32\n",
    "    print(f)\n",
    "cel(36)    "
   ]
  },
  {
   "cell_type": "code",
   "execution_count": null,
   "metadata": {},
   "outputs": [],
   "source": []
  },
  {
   "cell_type": "code",
   "execution_count": null,
   "metadata": {},
   "outputs": [],
   "source": []
  },
  {
   "cell_type": "code",
   "execution_count": null,
   "metadata": {},
   "outputs": [],
   "source": []
  },
  {
   "cell_type": "code",
   "execution_count": null,
   "metadata": {},
   "outputs": [],
   "source": []
  },
  {
   "cell_type": "code",
   "execution_count": null,
   "metadata": {},
   "outputs": [],
   "source": []
  },
  {
   "cell_type": "code",
   "execution_count": null,
   "metadata": {},
   "outputs": [],
   "source": []
  },
  {
   "cell_type": "code",
   "execution_count": null,
   "metadata": {},
   "outputs": [],
   "source": []
  }
 ],
 "metadata": {
  "kernelspec": {
   "display_name": "base",
   "language": "python",
   "name": "python3"
  },
  "language_info": {
   "codemirror_mode": {
    "name": "ipython",
    "version": 3
   },
   "file_extension": ".py",
   "mimetype": "text/x-python",
   "name": "python",
   "nbconvert_exporter": "python",
   "pygments_lexer": "ipython3",
   "version": "3.12.7"
  }
 },
 "nbformat": 4,
 "nbformat_minor": 2
}
